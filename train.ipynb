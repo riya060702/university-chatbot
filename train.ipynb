{
 "cells": [
  {
   "cell_type": "code",
   "execution_count": 717,
   "metadata": {},
   "outputs": [],
   "source": [
    "# Importing Modules and libraries\n",
    "\n",
    "import pandas as pd\n",
    "import numpy as np\n",
    "import matplotlib.pyplot as plt\n",
    "from pathlib import Path\n",
    "import string\n",
    "import re\n",
    "import joblib\n",
    "import json\n",
    "from collections import Counter\n",
    "import nltk\n",
    "from nltk.corpus import stopwords\n",
    "from nltk.stem import WordNetLemmatizer\n",
    "\n",
    "from tensorflow.keras.preprocessing.text import Tokenizer\n",
    "from tensorflow.keras.preprocessing.sequence import pad_sequences\n",
    "from tensorflow.keras.utils import plot_model\n",
    "from tensorflow.keras.models import Sequential\n",
    "from tensorflow.keras.layers import Embedding,Dense,Flatten\n",
    "from tensorflow.keras.layers import Conv1D\n",
    "from tensorflow.keras.layers import MaxPooling1D\n",
    "from tensorflow.keras.callbacks import ModelCheckpoint, EarlyStopping,ReduceLROnPlateau"
   ]
  },
  {
   "cell_type": "code",
   "execution_count": 718,
   "metadata": {},
   "outputs": [],
   "source": [
    "#Loading Dataset\n",
    "\n",
    "def load_doc(jsonFile):\n",
    "    with open(jsonFile) as file:\n",
    "        Json_data=json.loads(file.read())\n",
    "    return Json_data"
   ]
  },
  {
   "cell_type": "code",
   "execution_count": 719,
   "metadata": {},
   "outputs": [],
   "source": [
    "data=load_doc('intents.json')"
   ]
  },
  {
   "cell_type": "code",
   "execution_count": 720,
   "metadata": {},
   "outputs": [],
   "source": [
    "# Extracting questions from dataset into pandas dataframe\n",
    "\n",
    "def frame_data(feat_1,feat_2,is_pattern):\n",
    "    is_pattern=is_pattern\n",
    "    df=pd.DataFrame(columns=[feat_1,feat_2])\n",
    "    for intent in data['intents']:\n",
    "        if is_pattern:\n",
    "            for pattern in intent['patterns']:\n",
    "                w=pattern\n",
    "                df_to_append=pd.Series([w,intent['tag']],index=df.columns)\n",
    "                df=df.append(df_to_append,ignore_index=True)\n",
    "        else:\n",
    "            for response in intent['responses']:\n",
    "                w=response\n",
    "                df_to_append=pd.Series([w,intent['tag']],index=df.columns)\n",
    "                df=df.append(df_to_append,ignore_index=True)\n",
    "    return df"
   ]
  },
  {
   "cell_type": "code",
   "execution_count": 721,
   "metadata": {},
   "outputs": [
    {
     "name": "stdout",
     "output_type": "stream",
     "text": [
      "(422, 2)\n"
     ]
    },
    {
     "data": {
      "text/html": [
       "<div>\n",
       "<style scoped>\n",
       "    .dataframe tbody tr th:only-of-type {\n",
       "        vertical-align: middle;\n",
       "    }\n",
       "\n",
       "    .dataframe tbody tr th {\n",
       "        vertical-align: top;\n",
       "    }\n",
       "\n",
       "    .dataframe thead th {\n",
       "        text-align: right;\n",
       "    }\n",
       "</style>\n",
       "<table border=\"1\" class=\"dataframe\">\n",
       "  <thead>\n",
       "    <tr style=\"text-align: right;\">\n",
       "      <th></th>\n",
       "      <th>questions</th>\n",
       "      <th>labels</th>\n",
       "    </tr>\n",
       "  </thead>\n",
       "  <tbody>\n",
       "    <tr>\n",
       "      <th>0</th>\n",
       "      <td>Hi</td>\n",
       "      <td>greeting</td>\n",
       "    </tr>\n",
       "    <tr>\n",
       "      <th>1</th>\n",
       "      <td>How are you</td>\n",
       "      <td>greeting</td>\n",
       "    </tr>\n",
       "    <tr>\n",
       "      <th>2</th>\n",
       "      <td>Is anyone there?</td>\n",
       "      <td>greeting</td>\n",
       "    </tr>\n",
       "    <tr>\n",
       "      <th>3</th>\n",
       "      <td>Hello</td>\n",
       "      <td>greeting</td>\n",
       "    </tr>\n",
       "    <tr>\n",
       "      <th>4</th>\n",
       "      <td>Good day</td>\n",
       "      <td>greeting</td>\n",
       "    </tr>\n",
       "  </tbody>\n",
       "</table>\n",
       "</div>"
      ],
      "text/plain": [
       "          questions    labels\n",
       "0                Hi  greeting\n",
       "1       How are you  greeting\n",
       "2  Is anyone there?  greeting\n",
       "3             Hello  greeting\n",
       "4          Good day  greeting"
      ]
     },
     "execution_count": 721,
     "metadata": {},
     "output_type": "execute_result"
    }
   ],
   "source": [
    "df1=frame_data('questions','labels',True)\n",
    "print(df1.shape)\n",
    "df1.head()"
   ]
  },
  {
   "cell_type": "code",
   "execution_count": 722,
   "metadata": {},
   "outputs": [
    {
     "data": {
      "text/plain": [
       "greeting                9\n",
       "goodbye                12\n",
       "creator                16\n",
       "name                   13\n",
       "hours                  17\n",
       "number                 15\n",
       "course                 17\n",
       "B.Tech.                10\n",
       "M.Tech                 10\n",
       "Ph.D.                  10\n",
       "fees                   14\n",
       "location               14\n",
       "hostel                 22\n",
       "event                  11\n",
       "document               13\n",
       "floors                  7\n",
       "syllabus               12\n",
       "library                12\n",
       "infrastructure          3\n",
       "canteen                10\n",
       "menu                    5\n",
       "placement               8\n",
       "applied science hod     7\n",
       "csehod                  6\n",
       "ecehod                  6\n",
       "ithod                   6\n",
       "architecture hod        6\n",
       "mechhod                 6\n",
       "managementhod           6\n",
       "aihod                   6\n",
       "Chancellor              8\n",
       "sem                    11\n",
       "admission               6\n",
       "facilities              5\n",
       "college intake          9\n",
       "uniform                 9\n",
       "committee               6\n",
       "random                  3\n",
       "vacation               10\n",
       "salutaion              12\n",
       "task                    6\n",
       "ragging                 8\n",
       "hod                     3\n",
       "transport               9\n",
       "metro                   8\n",
       "Name: labels, dtype: int64"
      ]
     },
     "execution_count": 722,
     "metadata": {},
     "output_type": "execute_result"
    }
   ],
   "source": [
    "df1.labels.value_counts(sort=False)"
   ]
  },
  {
   "cell_type": "code",
   "execution_count": 723,
   "metadata": {},
   "outputs": [
    {
     "name": "stdout",
     "output_type": "stream",
     "text": [
      "(59, 2)\n"
     ]
    },
    {
     "data": {
      "text/html": [
       "<div>\n",
       "<style scoped>\n",
       "    .dataframe tbody tr th:only-of-type {\n",
       "        vertical-align: middle;\n",
       "    }\n",
       "\n",
       "    .dataframe tbody tr th {\n",
       "        vertical-align: top;\n",
       "    }\n",
       "\n",
       "    .dataframe thead th {\n",
       "        text-align: right;\n",
       "    }\n",
       "</style>\n",
       "<table border=\"1\" class=\"dataframe\">\n",
       "  <thead>\n",
       "    <tr style=\"text-align: right;\">\n",
       "      <th></th>\n",
       "      <th>response</th>\n",
       "      <th>labels</th>\n",
       "    </tr>\n",
       "  </thead>\n",
       "  <tbody>\n",
       "    <tr>\n",
       "      <th>0</th>\n",
       "      <td>Hello!</td>\n",
       "      <td>greeting</td>\n",
       "    </tr>\n",
       "    <tr>\n",
       "      <th>1</th>\n",
       "      <td>Good to see you again!</td>\n",
       "      <td>greeting</td>\n",
       "    </tr>\n",
       "    <tr>\n",
       "      <th>2</th>\n",
       "      <td>Hi there, how can I help?</td>\n",
       "      <td>greeting</td>\n",
       "    </tr>\n",
       "    <tr>\n",
       "      <th>3</th>\n",
       "      <td>Sad to see you go :(</td>\n",
       "      <td>goodbye</td>\n",
       "    </tr>\n",
       "    <tr>\n",
       "      <th>4</th>\n",
       "      <td>Talk to you later</td>\n",
       "      <td>goodbye</td>\n",
       "    </tr>\n",
       "  </tbody>\n",
       "</table>\n",
       "</div>"
      ],
      "text/plain": [
       "                    response    labels\n",
       "0                     Hello!  greeting\n",
       "1     Good to see you again!  greeting\n",
       "2  Hi there, how can I help?  greeting\n",
       "3       Sad to see you go :(   goodbye\n",
       "4          Talk to you later   goodbye"
      ]
     },
     "execution_count": 723,
     "metadata": {},
     "output_type": "execute_result"
    }
   ],
   "source": [
    "# Extracting responses from dataset into a pandas dataframe\n",
    "\n",
    "df2=frame_data('response','labels',False) \n",
    "print(df2.shape)\n",
    "df2.head()"
   ]
  },
  {
   "cell_type": "code",
   "execution_count": 724,
   "metadata": {},
   "outputs": [],
   "source": [
    "\"\"\"\" Text Pre Processing\n",
    "      \n",
    "    Tokenisation and Lemmatization\n",
    "\n",
    "\n",
    "Tokenisation is the cat of splitting a text corpus into constituent words-(ie splitting a phrase,sentence,paragraph or an entire text document into smaller units such as individual words or terms .Each of this smaller units is called a token. Tokenisation can be done manually by splitting based on white space or by using dedicated tools in libraries such as NLTK\n",
    "\n",
    "Lemmatization is a common normalisation technique in text pre-processing.In lemmatisation words are replaced by their root forms or words with similar context.Another text normalisation technique similar to this is called stemming.This is often done alongside manual tokanisation so as to yiels useful tokens\n",
    "\n",
    "The function below is used to tokenise and lemmatize our corpus\"\"\"\n",
    "\n",
    "lemmatizer=WordNetLemmatizer()\n",
    "vocab=Counter()\n",
    "labels=[]\n",
    "def tokenizer(entry):\n",
    "    tokens=entry.split()\n",
    "    re_punc=re.compile('[%s]'% re.escape(string.punctuation))\n",
    "    tokens=[re_punc.sub('',w) for w in tokens]\n",
    "    tokens=[word for word in tokens if word.isalpha()]\n",
    "    tokens=[lemmatizer.lemmatize(w.lower()) for w in tokens]\n",
    "    tokens=[word.lower() for word in tokens if len(word)>1]\n",
    "    return tokens\n"
   ]
  },
  {
   "cell_type": "code",
   "execution_count": 725,
   "metadata": {},
   "outputs": [],
   "source": [
    "\"\"\" Removing Stop Words\n",
    "    Its also a good practice to remove stop words from tokens so as to avoid misleading the model .Stop words are words that do not contribute to deeper meaning of phrase--definite and indefinite articles,pronouns and conjunctions to mention a few .With the NLTK Library ,filtering out stop words is easy , and you can also add the words that you feel should be a stop word into the predefined sets of words in the library\"\"\"\n",
    "\n",
    "def remove_stop_words(tokenizer,df,feature):\n",
    "    doc_without_stopwords=[]\n",
    "    for entry in df[feature]:\n",
    "        tokens=tokenizer(entry)\n",
    "        joblib.dump(tokens,'tokens.pkl')\n",
    "        doc_without_stopwords.append(' '.join(tokens))\n",
    "    df[feature]=doc_without_stopwords\n",
    "    return"
   ]
  },
  {
   "cell_type": "code",
   "execution_count": 726,
   "metadata": {},
   "outputs": [],
   "source": [
    "\"\"\"\"Vocabulary Building\n",
    "    Once we remove the stop words, the text is becoming cleaner,and atleast halfway ready for modelling .Our next step is to build a vocabulary,which is a set of words in a given dataset,after the removal of stop words.This will come in very handy at the time of adat encoding\"\"\"\n",
    "\n",
    "def create_vocab(tokenizer,df,feature):\n",
    "    for entry in df[feature]:\n",
    "        tokens=tokenizer(entry)\n",
    "        vocab.update(tokens)\n",
    "    joblib.dump(vocab,'vocab.pkl')\n",
    "    return"
   ]
  },
  {
   "cell_type": "code",
   "execution_count": 727,
   "metadata": {},
   "outputs": [
    {
     "name": "stderr",
     "output_type": "stream",
     "text": [
      "[nltk_data] Downloading package wordnet to\n",
      "[nltk_data]     C:\\Users\\HP\\AppData\\Roaming\\nltk_data...\n",
      "[nltk_data]   Package wordnet is already up-to-date!\n"
     ]
    },
    {
     "data": {
      "text/plain": [
       "True"
      ]
     },
     "execution_count": 727,
     "metadata": {},
     "output_type": "execute_result"
    }
   ],
   "source": [
    "nltk.download('wordnet')"
   ]
  },
  {
   "cell_type": "code",
   "execution_count": 728,
   "metadata": {},
   "outputs": [
    {
     "name": "stderr",
     "output_type": "stream",
     "text": [
      "[nltk_data] Downloading package averaged_perceptron_tagger to\n",
      "[nltk_data]     C:\\Users\\HP\\AppData\\Roaming\\nltk_data...\n",
      "[nltk_data]   Package averaged_perceptron_tagger is already up-to-\n",
      "[nltk_data]       date!\n"
     ]
    },
    {
     "data": {
      "text/plain": [
       "True"
      ]
     },
     "execution_count": 728,
     "metadata": {},
     "output_type": "execute_result"
    }
   ],
   "source": [
    "nltk.download('averaged_perceptron_tagger')"
   ]
  },
  {
   "cell_type": "code",
   "execution_count": 729,
   "metadata": {},
   "outputs": [
    {
     "name": "stderr",
     "output_type": "stream",
     "text": [
      "[nltk_data] Downloading collection 'all'\n",
      "[nltk_data]    | \n",
      "[nltk_data]    | Downloading package abc to\n",
      "[nltk_data]    |     C:\\Users\\HP\\AppData\\Roaming\\nltk_data...\n",
      "[nltk_data]    |   Package abc is already up-to-date!\n",
      "[nltk_data]    | Downloading package alpino to\n",
      "[nltk_data]    |     C:\\Users\\HP\\AppData\\Roaming\\nltk_data...\n",
      "[nltk_data]    |   Package alpino is already up-to-date!\n",
      "[nltk_data]    | Downloading package biocreative_ppi to\n",
      "[nltk_data]    |     C:\\Users\\HP\\AppData\\Roaming\\nltk_data...\n",
      "[nltk_data]    |   Package biocreative_ppi is already up-to-date!\n",
      "[nltk_data]    | Downloading package brown to\n",
      "[nltk_data]    |     C:\\Users\\HP\\AppData\\Roaming\\nltk_data...\n",
      "[nltk_data]    |   Package brown is already up-to-date!\n",
      "[nltk_data]    | Downloading package brown_tei to\n",
      "[nltk_data]    |     C:\\Users\\HP\\AppData\\Roaming\\nltk_data...\n",
      "[nltk_data]    |   Package brown_tei is already up-to-date!\n",
      "[nltk_data]    | Downloading package cess_cat to\n",
      "[nltk_data]    |     C:\\Users\\HP\\AppData\\Roaming\\nltk_data...\n",
      "[nltk_data]    |   Package cess_cat is already up-to-date!\n",
      "[nltk_data]    | Downloading package cess_esp to\n",
      "[nltk_data]    |     C:\\Users\\HP\\AppData\\Roaming\\nltk_data...\n",
      "[nltk_data]    |   Package cess_esp is already up-to-date!\n",
      "[nltk_data]    | Downloading package chat80 to\n",
      "[nltk_data]    |     C:\\Users\\HP\\AppData\\Roaming\\nltk_data...\n",
      "[nltk_data]    |   Package chat80 is already up-to-date!\n",
      "[nltk_data]    | Downloading package city_database to\n",
      "[nltk_data]    |     C:\\Users\\HP\\AppData\\Roaming\\nltk_data...\n",
      "[nltk_data]    |   Package city_database is already up-to-date!\n",
      "[nltk_data]    | Downloading package cmudict to\n",
      "[nltk_data]    |     C:\\Users\\HP\\AppData\\Roaming\\nltk_data...\n",
      "[nltk_data]    |   Package cmudict is already up-to-date!\n",
      "[nltk_data]    | Downloading package comparative_sentences to\n",
      "[nltk_data]    |     C:\\Users\\HP\\AppData\\Roaming\\nltk_data...\n",
      "[nltk_data]    |   Package comparative_sentences is already up-to-\n",
      "[nltk_data]    |       date!\n",
      "[nltk_data]    | Downloading package comtrans to\n",
      "[nltk_data]    |     C:\\Users\\HP\\AppData\\Roaming\\nltk_data...\n",
      "[nltk_data]    |   Package comtrans is already up-to-date!\n",
      "[nltk_data]    | Downloading package conll2000 to\n",
      "[nltk_data]    |     C:\\Users\\HP\\AppData\\Roaming\\nltk_data...\n",
      "[nltk_data]    |   Package conll2000 is already up-to-date!\n",
      "[nltk_data]    | Downloading package conll2002 to\n",
      "[nltk_data]    |     C:\\Users\\HP\\AppData\\Roaming\\nltk_data...\n",
      "[nltk_data]    |   Package conll2002 is already up-to-date!\n",
      "[nltk_data]    | Downloading package conll2007 to\n",
      "[nltk_data]    |     C:\\Users\\HP\\AppData\\Roaming\\nltk_data...\n",
      "[nltk_data]    |   Package conll2007 is already up-to-date!\n",
      "[nltk_data]    | Downloading package crubadan to\n",
      "[nltk_data]    |     C:\\Users\\HP\\AppData\\Roaming\\nltk_data...\n",
      "[nltk_data]    |   Package crubadan is already up-to-date!\n",
      "[nltk_data]    | Downloading package dependency_treebank to\n",
      "[nltk_data]    |     C:\\Users\\HP\\AppData\\Roaming\\nltk_data...\n",
      "[nltk_data]    |   Package dependency_treebank is already up-to-date!\n",
      "[nltk_data]    | Downloading package dolch to\n",
      "[nltk_data]    |     C:\\Users\\HP\\AppData\\Roaming\\nltk_data...\n",
      "[nltk_data]    |   Package dolch is already up-to-date!\n",
      "[nltk_data]    | Downloading package europarl_raw to\n",
      "[nltk_data]    |     C:\\Users\\HP\\AppData\\Roaming\\nltk_data...\n",
      "[nltk_data]    |   Package europarl_raw is already up-to-date!\n",
      "[nltk_data]    | Downloading package floresta to\n",
      "[nltk_data]    |     C:\\Users\\HP\\AppData\\Roaming\\nltk_data...\n",
      "[nltk_data]    |   Package floresta is already up-to-date!\n",
      "[nltk_data]    | Downloading package framenet_v15 to\n",
      "[nltk_data]    |     C:\\Users\\HP\\AppData\\Roaming\\nltk_data...\n",
      "[nltk_data]    |   Package framenet_v15 is already up-to-date!\n",
      "[nltk_data]    | Downloading package framenet_v17 to\n",
      "[nltk_data]    |     C:\\Users\\HP\\AppData\\Roaming\\nltk_data...\n",
      "[nltk_data]    |   Package framenet_v17 is already up-to-date!\n",
      "[nltk_data]    | Downloading package gazetteers to\n",
      "[nltk_data]    |     C:\\Users\\HP\\AppData\\Roaming\\nltk_data...\n",
      "[nltk_data]    |   Package gazetteers is already up-to-date!\n",
      "[nltk_data]    | Downloading package genesis to\n",
      "[nltk_data]    |     C:\\Users\\HP\\AppData\\Roaming\\nltk_data...\n",
      "[nltk_data]    |   Package genesis is already up-to-date!\n",
      "[nltk_data]    | Downloading package gutenberg to\n",
      "[nltk_data]    |     C:\\Users\\HP\\AppData\\Roaming\\nltk_data...\n",
      "[nltk_data]    |   Package gutenberg is already up-to-date!\n",
      "[nltk_data]    | Downloading package ieer to\n",
      "[nltk_data]    |     C:\\Users\\HP\\AppData\\Roaming\\nltk_data...\n",
      "[nltk_data]    |   Package ieer is already up-to-date!\n",
      "[nltk_data]    | Downloading package inaugural to\n",
      "[nltk_data]    |     C:\\Users\\HP\\AppData\\Roaming\\nltk_data...\n",
      "[nltk_data]    |   Package inaugural is already up-to-date!\n",
      "[nltk_data]    | Downloading package indian to\n",
      "[nltk_data]    |     C:\\Users\\HP\\AppData\\Roaming\\nltk_data...\n",
      "[nltk_data]    |   Package indian is already up-to-date!\n",
      "[nltk_data]    | Downloading package jeita to\n",
      "[nltk_data]    |     C:\\Users\\HP\\AppData\\Roaming\\nltk_data...\n",
      "[nltk_data]    |   Package jeita is already up-to-date!\n",
      "[nltk_data]    | Downloading package kimmo to\n",
      "[nltk_data]    |     C:\\Users\\HP\\AppData\\Roaming\\nltk_data...\n",
      "[nltk_data]    |   Package kimmo is already up-to-date!\n",
      "[nltk_data]    | Downloading package knbc to\n",
      "[nltk_data]    |     C:\\Users\\HP\\AppData\\Roaming\\nltk_data...\n",
      "[nltk_data]    |   Package knbc is already up-to-date!\n",
      "[nltk_data]    | Downloading package lin_thesaurus to\n",
      "[nltk_data]    |     C:\\Users\\HP\\AppData\\Roaming\\nltk_data...\n",
      "[nltk_data]    |   Package lin_thesaurus is already up-to-date!\n",
      "[nltk_data]    | Downloading package mac_morpho to\n",
      "[nltk_data]    |     C:\\Users\\HP\\AppData\\Roaming\\nltk_data...\n",
      "[nltk_data]    |   Package mac_morpho is already up-to-date!\n",
      "[nltk_data]    | Downloading package machado to\n",
      "[nltk_data]    |     C:\\Users\\HP\\AppData\\Roaming\\nltk_data...\n",
      "[nltk_data]    |   Package machado is already up-to-date!\n",
      "[nltk_data]    | Downloading package masc_tagged to\n",
      "[nltk_data]    |     C:\\Users\\HP\\AppData\\Roaming\\nltk_data...\n",
      "[nltk_data]    |   Package masc_tagged is already up-to-date!\n",
      "[nltk_data]    | Downloading package moses_sample to\n",
      "[nltk_data]    |     C:\\Users\\HP\\AppData\\Roaming\\nltk_data...\n",
      "[nltk_data]    |   Package moses_sample is already up-to-date!\n",
      "[nltk_data]    | Downloading package movie_reviews to\n",
      "[nltk_data]    |     C:\\Users\\HP\\AppData\\Roaming\\nltk_data...\n",
      "[nltk_data]    |   Package movie_reviews is already up-to-date!\n",
      "[nltk_data]    | Downloading package names to\n",
      "[nltk_data]    |     C:\\Users\\HP\\AppData\\Roaming\\nltk_data...\n",
      "[nltk_data]    |   Package names is already up-to-date!\n",
      "[nltk_data]    | Downloading package nombank.1.0 to\n",
      "[nltk_data]    |     C:\\Users\\HP\\AppData\\Roaming\\nltk_data...\n",
      "[nltk_data]    |   Package nombank.1.0 is already up-to-date!\n",
      "[nltk_data]    | Downloading package nps_chat to\n",
      "[nltk_data]    |     C:\\Users\\HP\\AppData\\Roaming\\nltk_data...\n",
      "[nltk_data]    |   Package nps_chat is already up-to-date!\n",
      "[nltk_data]    | Downloading package omw-1.4 to\n",
      "[nltk_data]    |     C:\\Users\\HP\\AppData\\Roaming\\nltk_data...\n",
      "[nltk_data]    |   Package omw-1.4 is already up-to-date!\n",
      "[nltk_data]    | Downloading package omw to\n",
      "[nltk_data]    |     C:\\Users\\HP\\AppData\\Roaming\\nltk_data...\n",
      "[nltk_data]    |   Package omw is already up-to-date!\n",
      "[nltk_data]    | Downloading package opinion_lexicon to\n",
      "[nltk_data]    |     C:\\Users\\HP\\AppData\\Roaming\\nltk_data...\n",
      "[nltk_data]    |   Package opinion_lexicon is already up-to-date!\n",
      "[nltk_data]    | Downloading package paradigms to\n",
      "[nltk_data]    |     C:\\Users\\HP\\AppData\\Roaming\\nltk_data...\n",
      "[nltk_data]    |   Package paradigms is already up-to-date!\n",
      "[nltk_data]    | Downloading package pil to\n",
      "[nltk_data]    |     C:\\Users\\HP\\AppData\\Roaming\\nltk_data...\n",
      "[nltk_data]    |   Package pil is already up-to-date!\n",
      "[nltk_data]    | Downloading package pl196x to\n",
      "[nltk_data]    |     C:\\Users\\HP\\AppData\\Roaming\\nltk_data...\n",
      "[nltk_data]    |   Package pl196x is already up-to-date!\n",
      "[nltk_data]    | Downloading package ppattach to\n",
      "[nltk_data]    |     C:\\Users\\HP\\AppData\\Roaming\\nltk_data...\n",
      "[nltk_data]    |   Package ppattach is already up-to-date!\n",
      "[nltk_data]    | Downloading package problem_reports to\n",
      "[nltk_data]    |     C:\\Users\\HP\\AppData\\Roaming\\nltk_data...\n",
      "[nltk_data]    |   Package problem_reports is already up-to-date!\n",
      "[nltk_data]    | Downloading package propbank to\n",
      "[nltk_data]    |     C:\\Users\\HP\\AppData\\Roaming\\nltk_data...\n",
      "[nltk_data]    |   Package propbank is already up-to-date!\n",
      "[nltk_data]    | Downloading package ptb to\n",
      "[nltk_data]    |     C:\\Users\\HP\\AppData\\Roaming\\nltk_data...\n",
      "[nltk_data]    |   Package ptb is already up-to-date!\n",
      "[nltk_data]    | Downloading package product_reviews_1 to\n",
      "[nltk_data]    |     C:\\Users\\HP\\AppData\\Roaming\\nltk_data...\n",
      "[nltk_data]    |   Package product_reviews_1 is already up-to-date!\n",
      "[nltk_data]    | Downloading package product_reviews_2 to\n",
      "[nltk_data]    |     C:\\Users\\HP\\AppData\\Roaming\\nltk_data...\n",
      "[nltk_data]    |   Package product_reviews_2 is already up-to-date!\n",
      "[nltk_data]    | Downloading package pros_cons to\n",
      "[nltk_data]    |     C:\\Users\\HP\\AppData\\Roaming\\nltk_data...\n",
      "[nltk_data]    |   Package pros_cons is already up-to-date!\n",
      "[nltk_data]    | Downloading package qc to\n",
      "[nltk_data]    |     C:\\Users\\HP\\AppData\\Roaming\\nltk_data...\n",
      "[nltk_data]    |   Package qc is already up-to-date!\n",
      "[nltk_data]    | Downloading package reuters to\n",
      "[nltk_data]    |     C:\\Users\\HP\\AppData\\Roaming\\nltk_data...\n",
      "[nltk_data]    |   Package reuters is already up-to-date!\n",
      "[nltk_data]    | Downloading package rte to\n",
      "[nltk_data]    |     C:\\Users\\HP\\AppData\\Roaming\\nltk_data...\n",
      "[nltk_data]    |   Package rte is already up-to-date!\n",
      "[nltk_data]    | Downloading package semcor to\n",
      "[nltk_data]    |     C:\\Users\\HP\\AppData\\Roaming\\nltk_data...\n",
      "[nltk_data]    |   Package semcor is already up-to-date!\n",
      "[nltk_data]    | Downloading package senseval to\n",
      "[nltk_data]    |     C:\\Users\\HP\\AppData\\Roaming\\nltk_data...\n",
      "[nltk_data]    |   Package senseval is already up-to-date!\n",
      "[nltk_data]    | Downloading package sentiwordnet to\n",
      "[nltk_data]    |     C:\\Users\\HP\\AppData\\Roaming\\nltk_data...\n",
      "[nltk_data]    |   Package sentiwordnet is already up-to-date!\n",
      "[nltk_data]    | Downloading package sentence_polarity to\n",
      "[nltk_data]    |     C:\\Users\\HP\\AppData\\Roaming\\nltk_data...\n",
      "[nltk_data]    |   Package sentence_polarity is already up-to-date!\n",
      "[nltk_data]    | Downloading package shakespeare to\n",
      "[nltk_data]    |     C:\\Users\\HP\\AppData\\Roaming\\nltk_data...\n",
      "[nltk_data]    |   Package shakespeare is already up-to-date!\n",
      "[nltk_data]    | Downloading package sinica_treebank to\n",
      "[nltk_data]    |     C:\\Users\\HP\\AppData\\Roaming\\nltk_data...\n",
      "[nltk_data]    |   Package sinica_treebank is already up-to-date!\n",
      "[nltk_data]    | Downloading package smultron to\n",
      "[nltk_data]    |     C:\\Users\\HP\\AppData\\Roaming\\nltk_data...\n",
      "[nltk_data]    |   Package smultron is already up-to-date!\n",
      "[nltk_data]    | Downloading package state_union to\n",
      "[nltk_data]    |     C:\\Users\\HP\\AppData\\Roaming\\nltk_data...\n",
      "[nltk_data]    |   Package state_union is already up-to-date!\n",
      "[nltk_data]    | Downloading package stopwords to\n",
      "[nltk_data]    |     C:\\Users\\HP\\AppData\\Roaming\\nltk_data...\n",
      "[nltk_data]    |   Package stopwords is already up-to-date!\n",
      "[nltk_data]    | Downloading package subjectivity to\n",
      "[nltk_data]    |     C:\\Users\\HP\\AppData\\Roaming\\nltk_data...\n",
      "[nltk_data]    |   Package subjectivity is already up-to-date!\n",
      "[nltk_data]    | Downloading package swadesh to\n",
      "[nltk_data]    |     C:\\Users\\HP\\AppData\\Roaming\\nltk_data...\n",
      "[nltk_data]    |   Package swadesh is already up-to-date!\n",
      "[nltk_data]    | Downloading package switchboard to\n",
      "[nltk_data]    |     C:\\Users\\HP\\AppData\\Roaming\\nltk_data...\n",
      "[nltk_data]    |   Package switchboard is already up-to-date!\n",
      "[nltk_data]    | Downloading package timit to\n",
      "[nltk_data]    |     C:\\Users\\HP\\AppData\\Roaming\\nltk_data...\n",
      "[nltk_data]    |   Package timit is already up-to-date!\n",
      "[nltk_data]    | Downloading package toolbox to\n",
      "[nltk_data]    |     C:\\Users\\HP\\AppData\\Roaming\\nltk_data...\n",
      "[nltk_data]    |   Package toolbox is already up-to-date!\n",
      "[nltk_data]    | Downloading package treebank to\n",
      "[nltk_data]    |     C:\\Users\\HP\\AppData\\Roaming\\nltk_data...\n",
      "[nltk_data]    |   Package treebank is already up-to-date!\n",
      "[nltk_data]    | Downloading package twitter_samples to\n",
      "[nltk_data]    |     C:\\Users\\HP\\AppData\\Roaming\\nltk_data...\n",
      "[nltk_data]    |   Package twitter_samples is already up-to-date!\n",
      "[nltk_data]    | Downloading package udhr to\n",
      "[nltk_data]    |     C:\\Users\\HP\\AppData\\Roaming\\nltk_data...\n",
      "[nltk_data]    |   Package udhr is already up-to-date!\n",
      "[nltk_data]    | Downloading package udhr2 to\n",
      "[nltk_data]    |     C:\\Users\\HP\\AppData\\Roaming\\nltk_data...\n",
      "[nltk_data]    |   Package udhr2 is already up-to-date!\n",
      "[nltk_data]    | Downloading package unicode_samples to\n",
      "[nltk_data]    |     C:\\Users\\HP\\AppData\\Roaming\\nltk_data...\n",
      "[nltk_data]    |   Package unicode_samples is already up-to-date!\n",
      "[nltk_data]    | Downloading package universal_treebanks_v20 to\n",
      "[nltk_data]    |     C:\\Users\\HP\\AppData\\Roaming\\nltk_data...\n",
      "[nltk_data]    |   Package universal_treebanks_v20 is already up-to-\n",
      "[nltk_data]    |       date!\n",
      "[nltk_data]    | Downloading package verbnet to\n",
      "[nltk_data]    |     C:\\Users\\HP\\AppData\\Roaming\\nltk_data...\n",
      "[nltk_data]    |   Package verbnet is already up-to-date!\n",
      "[nltk_data]    | Downloading package verbnet3 to\n",
      "[nltk_data]    |     C:\\Users\\HP\\AppData\\Roaming\\nltk_data...\n",
      "[nltk_data]    |   Package verbnet3 is already up-to-date!\n",
      "[nltk_data]    | Downloading package webtext to\n",
      "[nltk_data]    |     C:\\Users\\HP\\AppData\\Roaming\\nltk_data...\n",
      "[nltk_data]    |   Package webtext is already up-to-date!\n",
      "[nltk_data]    | Downloading package wordnet to\n",
      "[nltk_data]    |     C:\\Users\\HP\\AppData\\Roaming\\nltk_data...\n",
      "[nltk_data]    |   Package wordnet is already up-to-date!\n",
      "[nltk_data]    | Downloading package wordnet31 to\n",
      "[nltk_data]    |     C:\\Users\\HP\\AppData\\Roaming\\nltk_data...\n",
      "[nltk_data]    |   Package wordnet31 is already up-to-date!\n",
      "[nltk_data]    | Downloading package wordnet_ic to\n",
      "[nltk_data]    |     C:\\Users\\HP\\AppData\\Roaming\\nltk_data...\n",
      "[nltk_data]    |   Package wordnet_ic is already up-to-date!\n",
      "[nltk_data]    | Downloading package words to\n",
      "[nltk_data]    |     C:\\Users\\HP\\AppData\\Roaming\\nltk_data...\n",
      "[nltk_data]    |   Package words is already up-to-date!\n",
      "[nltk_data]    | Downloading package ycoe to\n",
      "[nltk_data]    |     C:\\Users\\HP\\AppData\\Roaming\\nltk_data...\n",
      "[nltk_data]    |   Package ycoe is already up-to-date!\n",
      "[nltk_data]    | Downloading package rslp to\n",
      "[nltk_data]    |     C:\\Users\\HP\\AppData\\Roaming\\nltk_data...\n",
      "[nltk_data]    |   Package rslp is already up-to-date!\n",
      "[nltk_data]    | Downloading package maxent_treebank_pos_tagger to\n",
      "[nltk_data]    |     C:\\Users\\HP\\AppData\\Roaming\\nltk_data...\n",
      "[nltk_data]    |   Package maxent_treebank_pos_tagger is already up-\n",
      "[nltk_data]    |       to-date!\n",
      "[nltk_data]    | Downloading package universal_tagset to\n",
      "[nltk_data]    |     C:\\Users\\HP\\AppData\\Roaming\\nltk_data...\n",
      "[nltk_data]    |   Package universal_tagset is already up-to-date!\n",
      "[nltk_data]    | Downloading package maxent_ne_chunker to\n",
      "[nltk_data]    |     C:\\Users\\HP\\AppData\\Roaming\\nltk_data...\n",
      "[nltk_data]    |   Package maxent_ne_chunker is already up-to-date!\n",
      "[nltk_data]    | Downloading package punkt to\n",
      "[nltk_data]    |     C:\\Users\\HP\\AppData\\Roaming\\nltk_data...\n",
      "[nltk_data]    |   Package punkt is already up-to-date!\n",
      "[nltk_data]    | Downloading package book_grammars to\n",
      "[nltk_data]    |     C:\\Users\\HP\\AppData\\Roaming\\nltk_data...\n",
      "[nltk_data]    |   Package book_grammars is already up-to-date!\n",
      "[nltk_data]    | Downloading package sample_grammars to\n",
      "[nltk_data]    |     C:\\Users\\HP\\AppData\\Roaming\\nltk_data...\n",
      "[nltk_data]    |   Package sample_grammars is already up-to-date!\n",
      "[nltk_data]    | Downloading package spanish_grammars to\n",
      "[nltk_data]    |     C:\\Users\\HP\\AppData\\Roaming\\nltk_data...\n",
      "[nltk_data]    |   Package spanish_grammars is already up-to-date!\n",
      "[nltk_data]    | Downloading package basque_grammars to\n",
      "[nltk_data]    |     C:\\Users\\HP\\AppData\\Roaming\\nltk_data...\n",
      "[nltk_data]    |   Package basque_grammars is already up-to-date!\n",
      "[nltk_data]    | Downloading package large_grammars to\n",
      "[nltk_data]    |     C:\\Users\\HP\\AppData\\Roaming\\nltk_data...\n",
      "[nltk_data]    |   Package large_grammars is already up-to-date!\n",
      "[nltk_data]    | Downloading package tagsets to\n",
      "[nltk_data]    |     C:\\Users\\HP\\AppData\\Roaming\\nltk_data...\n",
      "[nltk_data]    |   Package tagsets is already up-to-date!\n",
      "[nltk_data]    | Downloading package snowball_data to\n",
      "[nltk_data]    |     C:\\Users\\HP\\AppData\\Roaming\\nltk_data...\n",
      "[nltk_data]    |   Package snowball_data is already up-to-date!\n",
      "[nltk_data]    | Downloading package bllip_wsj_no_aux to\n",
      "[nltk_data]    |     C:\\Users\\HP\\AppData\\Roaming\\nltk_data...\n",
      "[nltk_data]    |   Package bllip_wsj_no_aux is already up-to-date!\n",
      "[nltk_data]    | Downloading package word2vec_sample to\n",
      "[nltk_data]    |     C:\\Users\\HP\\AppData\\Roaming\\nltk_data...\n",
      "[nltk_data]    |   Package word2vec_sample is already up-to-date!\n",
      "[nltk_data]    | Downloading package panlex_swadesh to\n",
      "[nltk_data]    |     C:\\Users\\HP\\AppData\\Roaming\\nltk_data...\n",
      "[nltk_data]    |   Package panlex_swadesh is already up-to-date!\n",
      "[nltk_data]    | Downloading package mte_teip5 to\n",
      "[nltk_data]    |     C:\\Users\\HP\\AppData\\Roaming\\nltk_data...\n",
      "[nltk_data]    |   Package mte_teip5 is already up-to-date!\n",
      "[nltk_data]    | Downloading package averaged_perceptron_tagger to\n",
      "[nltk_data]    |     C:\\Users\\HP\\AppData\\Roaming\\nltk_data...\n",
      "[nltk_data]    |   Package averaged_perceptron_tagger is already up-\n",
      "[nltk_data]    |       to-date!\n",
      "[nltk_data]    | Downloading package averaged_perceptron_tagger_ru to\n",
      "[nltk_data]    |     C:\\Users\\HP\\AppData\\Roaming\\nltk_data...\n",
      "[nltk_data]    |   Package averaged_perceptron_tagger_ru is already\n",
      "[nltk_data]    |       up-to-date!\n",
      "[nltk_data]    | Downloading package perluniprops to\n",
      "[nltk_data]    |     C:\\Users\\HP\\AppData\\Roaming\\nltk_data...\n",
      "[nltk_data]    |   Package perluniprops is already up-to-date!\n",
      "[nltk_data]    | Downloading package nonbreaking_prefixes to\n",
      "[nltk_data]    |     C:\\Users\\HP\\AppData\\Roaming\\nltk_data...\n",
      "[nltk_data]    |   Package nonbreaking_prefixes is already up-to-date!\n",
      "[nltk_data]    | Downloading package vader_lexicon to\n",
      "[nltk_data]    |     C:\\Users\\HP\\AppData\\Roaming\\nltk_data...\n",
      "[nltk_data]    |   Package vader_lexicon is already up-to-date!\n",
      "[nltk_data]    | Downloading package porter_test to\n",
      "[nltk_data]    |     C:\\Users\\HP\\AppData\\Roaming\\nltk_data...\n",
      "[nltk_data]    |   Package porter_test is already up-to-date!\n",
      "[nltk_data]    | Downloading package wmt15_eval to\n",
      "[nltk_data]    |     C:\\Users\\HP\\AppData\\Roaming\\nltk_data...\n",
      "[nltk_data]    |   Package wmt15_eval is already up-to-date!\n",
      "[nltk_data]    | Downloading package mwa_ppdb to\n",
      "[nltk_data]    |     C:\\Users\\HP\\AppData\\Roaming\\nltk_data...\n",
      "[nltk_data]    |   Package mwa_ppdb is already up-to-date!\n",
      "[nltk_data]    | \n",
      "[nltk_data]  Done downloading collection all\n"
     ]
    },
    {
     "data": {
      "text/plain": [
       "True"
      ]
     },
     "execution_count": 729,
     "metadata": {},
     "output_type": "execute_result"
    }
   ],
   "source": [
    "nltk.download('all')"
   ]
  },
  {
   "cell_type": "code",
   "execution_count": 730,
   "metadata": {},
   "outputs": [],
   "source": [
    "create_vocab(tokenizer,df1,'questions')"
   ]
  },
  {
   "cell_type": "code",
   "execution_count": 731,
   "metadata": {},
   "outputs": [],
   "source": [
    "remove_stop_words(tokenizer,df1,'questions')"
   ]
  },
  {
   "cell_type": "code",
   "execution_count": 732,
   "metadata": {},
   "outputs": [
    {
     "name": "stdout",
     "output_type": "stream",
     "text": [
      "[('is', 84), ('college', 73), ('what', 54), ('hod', 49), ('the', 45), ('of', 40), ('you', 35), ('how', 31), ('in', 31), ('are', 25), ('name', 22), ('hostel', 22), ('who', 19), ('where', 18), ('to', 17), ('fee', 16), ('for', 16), ('available', 15), ('facility', 15), ('can', 14)]\n"
     ]
    }
   ],
   "source": [
    "print(vocab.most_common(20))"
   ]
  },
  {
   "cell_type": "code",
   "execution_count": 733,
   "metadata": {},
   "outputs": [
    {
     "data": {
      "text/plain": [
       "252"
      ]
     },
     "execution_count": 733,
     "metadata": {},
     "output_type": "execute_result"
    }
   ],
   "source": [
    "vocab_size=len(vocab)\n",
    "vocab_size"
   ]
  },
  {
   "cell_type": "code",
   "execution_count": 734,
   "metadata": {},
   "outputs": [
    {
     "data": {
      "text/plain": [
       "['how many btech stream',\n",
       " 'what is the name of vice chancellor',\n",
       " 'how many mtech stream',\n",
       " 'how many phd stream',\n",
       " 'what is the process of admission',\n",
       " 'who is ai hod',\n",
       " 'who is applied science hod',\n",
       " 'who is architecture department hod',\n",
       " 'food facility',\n",
       " 'max number of student',\n",
       " 'what are the different committe in college',\n",
       " 'list of course',\n",
       " 'what is the name of your developer',\n",
       " 'who is cse hod',\n",
       " 'document to bring',\n",
       " 'who is ece hod',\n",
       " 'event organised',\n",
       " 'what facility college provide',\n",
       " 'information about fee',\n",
       " 'size of campus',\n",
       " 'cya',\n",
       " 'hi',\n",
       " 'hod',\n",
       " 'hostel facility',\n",
       " 'timing of college',\n",
       " 'how is college infrastructure',\n",
       " 'who is it hod',\n",
       " 'is there any library',\n",
       " 'where is the college located',\n",
       " 'who is management hod',\n",
       " 'who is mechanical hod',\n",
       " 'food menu',\n",
       " 'nearest metro station',\n",
       " 'name',\n",
       " 'more info',\n",
       " 'what is college placement',\n",
       " 'ragging',\n",
       " 'love you',\n",
       " 'okk',\n",
       " 'exam date',\n",
       " 'syllabus for it',\n",
       " 'what can you do',\n",
       " 'dtc bus route',\n",
       " 'college dress code',\n",
       " 'holiday']"
      ]
     },
     "execution_count": 734,
     "metadata": {},
     "output_type": "execute_result"
    }
   ],
   "source": [
    "test_list=list(df1.groupby(by='labels',as_index=False).first()['questions'])\n",
    "test_list\n"
   ]
  },
  {
   "cell_type": "code",
   "execution_count": 735,
   "metadata": {},
   "outputs": [
    {
     "data": {
      "text/plain": [
       "[99,\n",
       " 309,\n",
       " 109,\n",
       " 119,\n",
       " 328,\n",
       " 303,\n",
       " 260,\n",
       " 285,\n",
       " 237,\n",
       " 339,\n",
       " 357,\n",
       " 82,\n",
       " 21,\n",
       " 267,\n",
       " 190,\n",
       " 273,\n",
       " 179,\n",
       " 334,\n",
       " 129,\n",
       " 203,\n",
       " 9,\n",
       " 0,\n",
       " 402,\n",
       " 157,\n",
       " 50,\n",
       " 234,\n",
       " 279,\n",
       " 222,\n",
       " 143,\n",
       " 297,\n",
       " 291,\n",
       " 247,\n",
       " 414,\n",
       " 37,\n",
       " 67,\n",
       " 252,\n",
       " 394,\n",
       " 363,\n",
       " 376,\n",
       " 317,\n",
       " 210,\n",
       " 388,\n",
       " 405,\n",
       " 348,\n",
       " 366]"
      ]
     },
     "execution_count": 735,
     "metadata": {},
     "output_type": "execute_result"
    }
   ],
   "source": [
    "test_index=[]\n",
    "for i,_ in enumerate(test_list):\n",
    "    idx=df1[df1.questions==test_list[i]].index[0]\n",
    "    test_index.append(idx)\n",
    "test_index"
   ]
  },
  {
   "cell_type": "code",
   "execution_count": 736,
   "metadata": {},
   "outputs": [],
   "source": [
    "train_index=[i for i in df1.index if i not in test_index]\n"
   ]
  },
  {
   "cell_type": "code",
   "execution_count": 737,
   "metadata": {},
   "outputs": [
    {
     "data": {
      "text/plain": [
       "'hi how are you is anyone there hello good day whats up ya heyy whatsup cya see bye later goodbye am leaving have talk to tyyl got go gtg what the name of your developer creator who created made by whom create designed do called should call this chatting taking timing college working when guy open hour operation about on saturday tell something come attend my time more info contact telephone number no phone can get list course offered in igdtuw offer branch available at me many btech stream field type mtech phd information fee per semester each year much for first where located address reach location wheres hostel facility servive doe provide any capacity far from distance big between and event organised conducted held function document bring needed admision admission during required which need size campus building floor tall syllabus it technology timetable next lecture computer science holiday ece library book infrastructure food canteen cafetaria menu we placement company visit average package recruitment applied hod humanity humaniyies cse architecture department dept mechanical management ai vice chancellor whatv office exam date schedule sem process take provided max student seat maximum intake stundent taken allotment dress code dresscode uniform wear casuals an different committe committee give detail love will marry start end vacation long be okk okie nice work well done job thanks help thank ok okay thing why use ragging practice active antiragging case here junior history incident dtc bus route mode transportation travelling rawta mor nearest metro station near closest nearby'"
      ]
     },
     "execution_count": 737,
     "metadata": {},
     "output_type": "execute_result"
    }
   ],
   "source": [
    "' '.join(list(vocab.keys()))"
   ]
  },
  {
   "cell_type": "code",
   "execution_count": 738,
   "metadata": {},
   "outputs": [],
   "source": [
    "\"\"\"Encoding and Decoding\n",
    "  Now that we have vocabulary of words in dataset,each of patterns can be encoded into numerical feature for modelling--using any of the comment text encoding techniques--count vectorizer,term frequency-inverse document frequency(TF-IDF),hashing etc. Using tensorflow.keras text_to_sequence,we can encode each pattern corpus to vectorize a text corpus by turning each text into a either sequence of integers(each integer being the index of token in a dictionary)or into a vector where a coefficient for each token could be binary,based on word count which is based on TF-IDF.The resulting vectors will be postpadded with zeroes so as to equal the length of vector  \"\"\"\n",
    "\n",
    "def encoder(df,feature):\n",
    "    t=Tokenizer()\n",
    "    entries=[entry for entry in df[feature]]\n",
    "    t.fit_on_texts(entries)\n",
    "    joblib.dump(t,'tokenizer_t.pkl')\n",
    "    vocab_size=len(t.word_index)+1\n",
    "    entries=[entry for entry in df[feature]]\n",
    "    max_length=max([len(s.split())for s in entries])\n",
    "    encoded=t.texts_to_sequences(entries)\n",
    "    padded=pad_sequences(encoded,maxlen=max_length,padding='post')\n",
    "    return padded,vocab_size"
   ]
  },
  {
   "cell_type": "code",
   "execution_count": 739,
   "metadata": {},
   "outputs": [],
   "source": [
    "x,vocab_size=encoder(df1,'questions')"
   ]
  },
  {
   "cell_type": "code",
   "execution_count": 740,
   "metadata": {},
   "outputs": [
    {
     "data": {
      "text/plain": [
       "253"
      ]
     },
     "execution_count": 740,
     "metadata": {},
     "output_type": "execute_result"
    }
   ],
   "source": [
    "vocab_size"
   ]
  },
  {
   "cell_type": "code",
   "execution_count": 741,
   "metadata": {},
   "outputs": [],
   "source": [
    "df_encoded=pd.DataFrame(x)"
   ]
  },
  {
   "cell_type": "code",
   "execution_count": 742,
   "metadata": {},
   "outputs": [
    {
     "data": {
      "text/html": [
       "<div>\n",
       "<style scoped>\n",
       "    .dataframe tbody tr th:only-of-type {\n",
       "        vertical-align: middle;\n",
       "    }\n",
       "\n",
       "    .dataframe tbody tr th {\n",
       "        vertical-align: top;\n",
       "    }\n",
       "\n",
       "    .dataframe thead th {\n",
       "        text-align: right;\n",
       "    }\n",
       "</style>\n",
       "<table border=\"1\" class=\"dataframe\">\n",
       "  <thead>\n",
       "    <tr style=\"text-align: right;\">\n",
       "      <th></th>\n",
       "      <th>0</th>\n",
       "      <th>1</th>\n",
       "      <th>2</th>\n",
       "      <th>3</th>\n",
       "      <th>4</th>\n",
       "      <th>5</th>\n",
       "      <th>6</th>\n",
       "      <th>7</th>\n",
       "      <th>8</th>\n",
       "      <th>labels</th>\n",
       "    </tr>\n",
       "  </thead>\n",
       "  <tbody>\n",
       "    <tr>\n",
       "      <th>0</th>\n",
       "      <td>155</td>\n",
       "      <td>0</td>\n",
       "      <td>0</td>\n",
       "      <td>0</td>\n",
       "      <td>0</td>\n",
       "      <td>0</td>\n",
       "      <td>0</td>\n",
       "      <td>0</td>\n",
       "      <td>0</td>\n",
       "      <td>greeting</td>\n",
       "    </tr>\n",
       "    <tr>\n",
       "      <th>1</th>\n",
       "      <td>8</td>\n",
       "      <td>10</td>\n",
       "      <td>7</td>\n",
       "      <td>0</td>\n",
       "      <td>0</td>\n",
       "      <td>0</td>\n",
       "      <td>0</td>\n",
       "      <td>0</td>\n",
       "      <td>0</td>\n",
       "      <td>greeting</td>\n",
       "    </tr>\n",
       "    <tr>\n",
       "      <th>2</th>\n",
       "      <td>1</td>\n",
       "      <td>156</td>\n",
       "      <td>31</td>\n",
       "      <td>0</td>\n",
       "      <td>0</td>\n",
       "      <td>0</td>\n",
       "      <td>0</td>\n",
       "      <td>0</td>\n",
       "      <td>0</td>\n",
       "      <td>greeting</td>\n",
       "    </tr>\n",
       "    <tr>\n",
       "      <th>3</th>\n",
       "      <td>157</td>\n",
       "      <td>0</td>\n",
       "      <td>0</td>\n",
       "      <td>0</td>\n",
       "      <td>0</td>\n",
       "      <td>0</td>\n",
       "      <td>0</td>\n",
       "      <td>0</td>\n",
       "      <td>0</td>\n",
       "      <td>greeting</td>\n",
       "    </tr>\n",
       "    <tr>\n",
       "      <th>4</th>\n",
       "      <td>90</td>\n",
       "      <td>91</td>\n",
       "      <td>0</td>\n",
       "      <td>0</td>\n",
       "      <td>0</td>\n",
       "      <td>0</td>\n",
       "      <td>0</td>\n",
       "      <td>0</td>\n",
       "      <td>0</td>\n",
       "      <td>greeting</td>\n",
       "    </tr>\n",
       "  </tbody>\n",
       "</table>\n",
       "</div>"
      ],
      "text/plain": [
       "     0    1   2  3  4  5  6  7  8    labels\n",
       "0  155    0   0  0  0  0  0  0  0  greeting\n",
       "1    8   10   7  0  0  0  0  0  0  greeting\n",
       "2    1  156  31  0  0  0  0  0  0  greeting\n",
       "3  157    0   0  0  0  0  0  0  0  greeting\n",
       "4   90   91   0  0  0  0  0  0  0  greeting"
      ]
     },
     "execution_count": 742,
     "metadata": {},
     "output_type": "execute_result"
    }
   ],
   "source": [
    "df_encoded['labels']=df1.labels\n",
    "df_encoded.head()"
   ]
  },
  {
   "cell_type": "code",
   "execution_count": 743,
   "metadata": {},
   "outputs": [],
   "source": [
    "for i in range(0,2):\n",
    "    dt=[0]*16\n",
    "    dt.append('confused')\n",
    "    dt=[dt]\n",
    "    pd.DataFrame(dt).rename(columns={16:'labels'})\n",
    "    df_encoded=df_encoded.append(pd.DataFrame(dt).rename(columns={16:'labels'}),ignore_index=True)"
   ]
  },
  {
   "cell_type": "code",
   "execution_count": 744,
   "metadata": {},
   "outputs": [
    {
     "data": {
      "text/html": [
       "<div>\n",
       "<style scoped>\n",
       "    .dataframe tbody tr th:only-of-type {\n",
       "        vertical-align: middle;\n",
       "    }\n",
       "\n",
       "    .dataframe tbody tr th {\n",
       "        vertical-align: top;\n",
       "    }\n",
       "\n",
       "    .dataframe thead th {\n",
       "        text-align: right;\n",
       "    }\n",
       "</style>\n",
       "<table border=\"1\" class=\"dataframe\">\n",
       "  <thead>\n",
       "    <tr style=\"text-align: right;\">\n",
       "      <th></th>\n",
       "      <th>0</th>\n",
       "      <th>1</th>\n",
       "      <th>2</th>\n",
       "      <th>3</th>\n",
       "      <th>4</th>\n",
       "      <th>5</th>\n",
       "      <th>6</th>\n",
       "      <th>7</th>\n",
       "      <th>8</th>\n",
       "      <th>labels</th>\n",
       "      <th>9</th>\n",
       "      <th>10</th>\n",
       "      <th>11</th>\n",
       "      <th>12</th>\n",
       "      <th>13</th>\n",
       "      <th>14</th>\n",
       "      <th>15</th>\n",
       "    </tr>\n",
       "  </thead>\n",
       "  <tbody>\n",
       "    <tr>\n",
       "      <th>419</th>\n",
       "      <td>154</td>\n",
       "      <td>51</td>\n",
       "      <td>58</td>\n",
       "      <td>0</td>\n",
       "      <td>0</td>\n",
       "      <td>0</td>\n",
       "      <td>0</td>\n",
       "      <td>0</td>\n",
       "      <td>0</td>\n",
       "      <td>metro</td>\n",
       "      <td>NaN</td>\n",
       "      <td>NaN</td>\n",
       "      <td>NaN</td>\n",
       "      <td>NaN</td>\n",
       "      <td>NaN</td>\n",
       "      <td>NaN</td>\n",
       "      <td>NaN</td>\n",
       "    </tr>\n",
       "    <tr>\n",
       "      <th>420</th>\n",
       "      <td>51</td>\n",
       "      <td>0</td>\n",
       "      <td>0</td>\n",
       "      <td>0</td>\n",
       "      <td>0</td>\n",
       "      <td>0</td>\n",
       "      <td>0</td>\n",
       "      <td>0</td>\n",
       "      <td>0</td>\n",
       "      <td>metro</td>\n",
       "      <td>NaN</td>\n",
       "      <td>NaN</td>\n",
       "      <td>NaN</td>\n",
       "      <td>NaN</td>\n",
       "      <td>NaN</td>\n",
       "      <td>NaN</td>\n",
       "      <td>NaN</td>\n",
       "    </tr>\n",
       "    <tr>\n",
       "      <th>421</th>\n",
       "      <td>51</td>\n",
       "      <td>58</td>\n",
       "      <td>154</td>\n",
       "      <td>0</td>\n",
       "      <td>0</td>\n",
       "      <td>0</td>\n",
       "      <td>0</td>\n",
       "      <td>0</td>\n",
       "      <td>0</td>\n",
       "      <td>metro</td>\n",
       "      <td>NaN</td>\n",
       "      <td>NaN</td>\n",
       "      <td>NaN</td>\n",
       "      <td>NaN</td>\n",
       "      <td>NaN</td>\n",
       "      <td>NaN</td>\n",
       "      <td>NaN</td>\n",
       "    </tr>\n",
       "    <tr>\n",
       "      <th>422</th>\n",
       "      <td>0</td>\n",
       "      <td>0</td>\n",
       "      <td>0</td>\n",
       "      <td>0</td>\n",
       "      <td>0</td>\n",
       "      <td>0</td>\n",
       "      <td>0</td>\n",
       "      <td>0</td>\n",
       "      <td>0</td>\n",
       "      <td>confused</td>\n",
       "      <td>0.0</td>\n",
       "      <td>0.0</td>\n",
       "      <td>0.0</td>\n",
       "      <td>0.0</td>\n",
       "      <td>0.0</td>\n",
       "      <td>0.0</td>\n",
       "      <td>0.0</td>\n",
       "    </tr>\n",
       "    <tr>\n",
       "      <th>423</th>\n",
       "      <td>0</td>\n",
       "      <td>0</td>\n",
       "      <td>0</td>\n",
       "      <td>0</td>\n",
       "      <td>0</td>\n",
       "      <td>0</td>\n",
       "      <td>0</td>\n",
       "      <td>0</td>\n",
       "      <td>0</td>\n",
       "      <td>confused</td>\n",
       "      <td>0.0</td>\n",
       "      <td>0.0</td>\n",
       "      <td>0.0</td>\n",
       "      <td>0.0</td>\n",
       "      <td>0.0</td>\n",
       "      <td>0.0</td>\n",
       "      <td>0.0</td>\n",
       "    </tr>\n",
       "  </tbody>\n",
       "</table>\n",
       "</div>"
      ],
      "text/plain": [
       "       0   1    2  3  4  5  6  7  8    labels    9   10   11   12   13   14  \\\n",
       "419  154  51   58  0  0  0  0  0  0     metro  NaN  NaN  NaN  NaN  NaN  NaN   \n",
       "420   51   0    0  0  0  0  0  0  0     metro  NaN  NaN  NaN  NaN  NaN  NaN   \n",
       "421   51  58  154  0  0  0  0  0  0     metro  NaN  NaN  NaN  NaN  NaN  NaN   \n",
       "422    0   0    0  0  0  0  0  0  0  confused  0.0  0.0  0.0  0.0  0.0  0.0   \n",
       "423    0   0    0  0  0  0  0  0  0  confused  0.0  0.0  0.0  0.0  0.0  0.0   \n",
       "\n",
       "      15  \n",
       "419  NaN  \n",
       "420  NaN  \n",
       "421  NaN  \n",
       "422  0.0  \n",
       "423  0.0  "
      ]
     },
     "execution_count": 744,
     "metadata": {},
     "output_type": "execute_result"
    }
   ],
   "source": [
    "df_encoded.tail()"
   ]
  },
  {
   "cell_type": "code",
   "execution_count": 745,
   "metadata": {},
   "outputs": [],
   "source": [
    "df_encoded.fillna(0,inplace=True)"
   ]
  },
  {
   "cell_type": "code",
   "execution_count": 746,
   "metadata": {},
   "outputs": [],
   "source": [
    "# Train Test Split\n",
    "\n",
    "train_index.append(422)\n",
    "test_index.append(423)"
   ]
  },
  {
   "cell_type": "code",
   "execution_count": 747,
   "metadata": {},
   "outputs": [],
   "source": [
    "#convert dataset to machine readable form using label encoding\n",
    "from sklearn.preprocessing import LabelEncoder\n",
    "label_enc=LabelEncoder()"
   ]
  },
  {
   "cell_type": "code",
   "execution_count": 748,
   "metadata": {},
   "outputs": [
    {
     "data": {
      "text/plain": [
       "array([22, 22, 22, 22, 22, 22, 22, 22, 22, 21, 21, 21, 21, 21, 21, 21, 21,\n",
       "       21, 21, 21, 21, 13, 13, 13, 13, 13, 13, 13, 13, 13, 13, 13, 13, 13,\n",
       "       13, 13, 13, 34, 34, 34, 34, 34, 34, 34, 34, 34, 34, 34, 34, 34, 25,\n",
       "       25, 25, 25, 25, 25, 25, 25, 25, 25, 25, 25, 25, 25, 25, 25, 25, 35,\n",
       "       35, 35, 35, 35, 35, 35, 35, 35, 35, 35, 35, 35, 35, 35, 12, 12, 12,\n",
       "       12, 12, 12, 12, 12, 12, 12, 12, 12, 12, 12, 12, 12, 12,  0,  0,  0,\n",
       "        0,  0,  0,  0,  0,  0,  0,  2,  2,  2,  2,  2,  2,  2,  2,  2,  2,\n",
       "        3,  3,  3,  3,  3,  3,  3,  3,  3,  3, 19, 19, 19, 19, 19, 19, 19,\n",
       "       19, 19, 19, 19, 19, 19, 19, 29, 29, 29, 29, 29, 29, 29, 29, 29, 29,\n",
       "       29, 29, 29, 29, 24, 24, 24, 24, 24, 24, 24, 24, 24, 24, 24, 24, 24,\n",
       "       24, 24, 24, 24, 24, 24, 24, 24, 24, 17, 17, 17, 17, 17, 17, 17, 17,\n",
       "       17, 17, 17, 15, 15, 15, 15, 15, 15, 15, 15, 15, 15, 15, 15, 15, 20,\n",
       "       20, 20, 20, 20, 20, 20, 41, 41, 41, 41, 41, 41, 41, 41, 41, 41, 41,\n",
       "       41, 28, 28, 28, 28, 28, 28, 28, 28, 28, 28, 28, 28, 26, 26, 26,  8,\n",
       "        8,  8,  8,  8,  8,  8,  8,  8,  8, 32, 32, 32, 32, 32, 36, 36, 36,\n",
       "       36, 36, 36, 36, 36,  6,  6,  6,  6,  6,  6,  6, 14, 14, 14, 14, 14,\n",
       "       14, 16, 16, 16, 16, 16, 16, 27, 27, 27, 27, 27, 27,  7,  7,  7,  7,\n",
       "        7,  7, 31, 31, 31, 31, 31, 31, 30, 30, 30, 30, 30, 30,  5,  5,  5,\n",
       "        5,  5,  5,  1,  1,  1,  1,  1,  1,  1,  1, 40, 40, 40, 40, 40, 40,\n",
       "       40, 40, 40, 40, 40,  4,  4,  4,  4,  4,  4, 18, 18, 18, 18, 18,  9,\n",
       "        9,  9,  9,  9,  9,  9,  9,  9, 44, 44, 44, 44, 44, 44, 44, 44, 44,\n",
       "       10, 10, 10, 10, 10, 10, 38, 38, 38, 45, 45, 45, 45, 45, 45, 45, 45,\n",
       "       45, 45, 39, 39, 39, 39, 39, 39, 39, 39, 39, 39, 39, 39, 42, 42, 42,\n",
       "       42, 42, 42, 37, 37, 37, 37, 37, 37, 37, 37, 23, 23, 23, 43, 43, 43,\n",
       "       43, 43, 43, 43, 43, 43, 33, 33, 33, 33, 33, 33, 33, 33, 11, 11])"
      ]
     },
     "execution_count": 748,
     "metadata": {},
     "output_type": "execute_result"
    }
   ],
   "source": [
    "labl=label_enc.fit_transform(df_encoded.labels)\n",
    "labl"
   ]
  },
  {
   "cell_type": "code",
   "execution_count": 749,
   "metadata": {},
   "outputs": [
    {
     "data": {
      "text/plain": [
       "{'greeting': 22,\n",
       " 'goodbye': 21,\n",
       " 'creator': 13,\n",
       " 'name': 34,\n",
       " 'hours': 25,\n",
       " 'number': 35,\n",
       " 'course': 12,\n",
       " 'B.Tech.': 0,\n",
       " 'M.Tech': 2,\n",
       " 'Ph.D.': 3,\n",
       " 'fees': 19,\n",
       " 'location': 29,\n",
       " 'hostel': 24,\n",
       " 'event': 17,\n",
       " 'document': 15,\n",
       " 'floors': 20,\n",
       " 'syllabus': 41,\n",
       " 'library': 28,\n",
       " 'infrastructure': 26,\n",
       " 'canteen': 8,\n",
       " 'menu': 32,\n",
       " 'placement': 36,\n",
       " 'applied science hod': 6,\n",
       " 'csehod': 14,\n",
       " 'ecehod': 16,\n",
       " 'ithod': 27,\n",
       " 'architecture hod': 7,\n",
       " 'mechhod': 31,\n",
       " 'managementhod': 30,\n",
       " 'aihod': 5,\n",
       " 'Chancellor': 1,\n",
       " 'sem': 40,\n",
       " 'admission': 4,\n",
       " 'facilities': 18,\n",
       " 'college intake': 9,\n",
       " 'uniform': 44,\n",
       " 'committee': 10,\n",
       " 'random': 38,\n",
       " 'vacation': 45,\n",
       " 'salutaion': 39,\n",
       " 'task': 42,\n",
       " 'ragging': 37,\n",
       " 'hod': 23,\n",
       " 'transport': 43,\n",
       " 'metro': 33,\n",
       " 'confused': 11}"
      ]
     },
     "execution_count": 749,
     "metadata": {},
     "output_type": "execute_result"
    }
   ],
   "source": [
    "# Encodin ['label'] into machine readable form\n",
    "\n",
    "mapper={}\n",
    "for index,key in enumerate(df_encoded.labels):\n",
    "    if key not in mapper.keys():\n",
    "        mapper[key]=labl[index]\n",
    "mapper"
   ]
  },
  {
   "cell_type": "code",
   "execution_count": 750,
   "metadata": {},
   "outputs": [],
   "source": [
    "# Mapping encoded label to response dataset and saving it as csv for future use\n",
    "df2.labels=df2.labels.map(mapper)"
   ]
  },
  {
   "cell_type": "code",
   "execution_count": 751,
   "metadata": {},
   "outputs": [],
   "source": [
    "df2.dropna(inplace=True)"
   ]
  },
  {
   "cell_type": "code",
   "execution_count": 752,
   "metadata": {},
   "outputs": [],
   "source": [
    "df2.labels=df2.labels.astype({'labels':'int32'})"
   ]
  },
  {
   "cell_type": "code",
   "execution_count": 753,
   "metadata": {},
   "outputs": [
    {
     "data": {
      "text/html": [
       "<div>\n",
       "<style scoped>\n",
       "    .dataframe tbody tr th:only-of-type {\n",
       "        vertical-align: middle;\n",
       "    }\n",
       "\n",
       "    .dataframe tbody tr th {\n",
       "        vertical-align: top;\n",
       "    }\n",
       "\n",
       "    .dataframe thead th {\n",
       "        text-align: right;\n",
       "    }\n",
       "</style>\n",
       "<table border=\"1\" class=\"dataframe\">\n",
       "  <thead>\n",
       "    <tr style=\"text-align: right;\">\n",
       "      <th></th>\n",
       "      <th>response</th>\n",
       "      <th>labels</th>\n",
       "    </tr>\n",
       "  </thead>\n",
       "  <tbody>\n",
       "    <tr>\n",
       "      <th>0</th>\n",
       "      <td>Hello!</td>\n",
       "      <td>22</td>\n",
       "    </tr>\n",
       "    <tr>\n",
       "      <th>1</th>\n",
       "      <td>Good to see you again!</td>\n",
       "      <td>22</td>\n",
       "    </tr>\n",
       "    <tr>\n",
       "      <th>2</th>\n",
       "      <td>Hi there, how can I help?</td>\n",
       "      <td>22</td>\n",
       "    </tr>\n",
       "    <tr>\n",
       "      <th>3</th>\n",
       "      <td>Sad to see you go :(</td>\n",
       "      <td>21</td>\n",
       "    </tr>\n",
       "    <tr>\n",
       "      <th>4</th>\n",
       "      <td>Talk to you later</td>\n",
       "      <td>21</td>\n",
       "    </tr>\n",
       "  </tbody>\n",
       "</table>\n",
       "</div>"
      ],
      "text/plain": [
       "                    response  labels\n",
       "0                     Hello!      22\n",
       "1     Good to see you again!      22\n",
       "2  Hi there, how can I help?      22\n",
       "3       Sad to see you go :(      21\n",
       "4          Talk to you later      21"
      ]
     },
     "execution_count": 753,
     "metadata": {},
     "output_type": "execute_result"
    }
   ],
   "source": [
    "df2.head()"
   ]
  },
  {
   "cell_type": "code",
   "execution_count": 754,
   "metadata": {},
   "outputs": [],
   "source": [
    "df2.to_csv('response.csv',index=False)"
   ]
  },
  {
   "cell_type": "code",
   "execution_count": 755,
   "metadata": {},
   "outputs": [],
   "source": [
    "\"\"\"\" Data Splitting\n",
    "    With the data encoded, we can now split it into training and testing sets.The training set will be used to train a model while the testing set will be used for evaluating its performance on unseen data. This can be done using a stratified approach,wherby of pattern in tags are well represented in  testing sets\"\"\"\n",
    "\n",
    "train=df_encoded.loc[train_index]\n",
    "test=df_encoded.loc[test_index]"
   ]
  },
  {
   "cell_type": "code",
   "execution_count": 756,
   "metadata": {},
   "outputs": [],
   "source": [
    "x_train=train.drop(columns=['labels'],axis=1)\n",
    "y_train=train.labels\n",
    "x_test=test.drop(columns=['labels'],axis=1)\n",
    "y_test=test.labels"
   ]
  },
  {
   "cell_type": "code",
   "execution_count": 757,
   "metadata": {},
   "outputs": [],
   "source": [
    "y_train=pd.get_dummies(y_train).values\n",
    "y_test=pd.get_dummies(y_test).values"
   ]
  },
  {
   "cell_type": "code",
   "execution_count": 758,
   "metadata": {},
   "outputs": [
    {
     "data": {
      "text/plain": [
       "((46,), (46,))"
      ]
     },
     "execution_count": 758,
     "metadata": {},
     "output_type": "execute_result"
    }
   ],
   "source": [
    "y_train[0].shape,y_test[0].shape"
   ]
  },
  {
   "cell_type": "code",
   "execution_count": 759,
   "metadata": {},
   "outputs": [
    {
     "name": "stdout",
     "output_type": "stream",
     "text": [
      "(378, 16) (378, 46) (46, 16) (46, 46)\n"
     ]
    }
   ],
   "source": [
    "print(x_train.shape,y_train.shape,x_test.shape,y_test.shape)"
   ]
  },
  {
   "cell_type": "code",
   "execution_count": 760,
   "metadata": {},
   "outputs": [],
   "source": [
    "max_length=x_train.shape[1]\n",
    "output=46"
   ]
  },
  {
   "cell_type": "code",
   "execution_count": 761,
   "metadata": {},
   "outputs": [
    {
     "data": {
      "text/plain": [
       "16"
      ]
     },
     "execution_count": 761,
     "metadata": {},
     "output_type": "execute_result"
    }
   ],
   "source": [
    "max_length"
   ]
  },
  {
   "cell_type": "code",
   "execution_count": 762,
   "metadata": {},
   "outputs": [],
   "source": [
    "\"\"\"\" Model architecture\n",
    "    The most common approach to building a model on sequence input is to use a reinforcement learning model-we'll use a long-short-term-memory(LSTM) architecture due to its state-of-the-art performance.The choice for this project is Convolusional Neural Network(CNN)+an embedding layer+fully connected layer.\n",
    "    \n",
    "    A word embedding is a method of representing text in which each word in vocabulary is represented by real-valued vector in a high-dimensional space.These vectors are learned in such a way that words which have a similar meaning  will have similar representations in vector space..This has been proven as a better representation of text than normal classical method like bag-of-words,where relationship between words or tokens are ignored or forced in bigram and trigram approaches.These vectors are learned and updated during the model training.\"\"\"\n",
    "\n",
    "early_stopping=EarlyStopping(monitor='val_loss',patience=10)\n",
    "checkpoint=ModelCheckpoint(\"model-v1.h5\",\n",
    "                            monitor=\"val_loss\",\n",
    "                            mode=\"min\",\n",
    "                            save_best_only=True,\n",
    "                           verbrose=2\n",
    "\n",
    ")\n",
    "reduce_lr=ReduceLROnPlateau(monitor=\"val_loss\",factor=0.2,patience=3,verbose=1,min_delta=0.0001)\n",
    "callbacks=[early_stopping,checkpoint,reduce_lr]"
   ]
  },
  {
   "cell_type": "code",
   "execution_count": 763,
   "metadata": {},
   "outputs": [],
   "source": [
    "def define_model(vocab_size,max_length):\n",
    "    model=Sequential()\n",
    "    model.add(Embedding(vocab_size,600,input_length=max_length))\n",
    "    model.add(Conv1D(filters=64,kernel_size=4,activation='relu'))\n",
    "    model.add(MaxPooling1D(pool_size=8))\n",
    "    model.add(Flatten())\n",
    "    model.add(Dense(output,activation='softmax'))\n",
    "\n",
    "    #compile networks\n",
    "    model.compile(loss='categorical_crossentropy',\n",
    "                  optimizer='adam',\n",
    "                  metrics=['accuracy'])\n",
    "\n",
    "    #summarise defined model\n",
    "    model.summary()\n",
    "    plot_model(model,to_file='model.png',show_shapes=True)\n",
    "    return model"
   ]
  },
  {
   "cell_type": "code",
   "execution_count": 764,
   "metadata": {},
   "outputs": [
    {
     "name": "stdout",
     "output_type": "stream",
     "text": [
      "Model: \"sequential_13\"\n",
      "_________________________________________________________________\n",
      " Layer (type)                Output Shape              Param #   \n",
      "=================================================================\n",
      " embedding_13 (Embedding)    (None, 16, 600)           151800    \n",
      "                                                                 \n",
      " conv1d_13 (Conv1D)          (None, 13, 64)            153664    \n",
      "                                                                 \n",
      " max_pooling1d_13 (MaxPoolin  (None, 1, 64)            0         \n",
      " g1D)                                                            \n",
      "                                                                 \n",
      " flatten_13 (Flatten)        (None, 64)                0         \n",
      "                                                                 \n",
      " dense_13 (Dense)            (None, 46)                2990      \n",
      "                                                                 \n",
      "=================================================================\n",
      "Total params: 308,454\n",
      "Trainable params: 308,454\n",
      "Non-trainable params: 0\n",
      "_________________________________________________________________\n"
     ]
    }
   ],
   "source": [
    "# Define model\n",
    "model=define_model(vocab_size,max_length)"
   ]
  },
  {
   "cell_type": "code",
   "execution_count": 765,
   "metadata": {},
   "outputs": [
    {
     "data": {
      "text/plain": [
       "' As seen in the code snippet above, the vector output of embedding layer is 600 and followed by a 1-Dimensional convolutional layer using using 64 filters with kernel size of 4,each using a ReLu fuction. Then,a 1-dimensional max pooling layer with a pool size of 8.These vectors are fattened(transposed to a single row of vectors) for a fully connected layer before compiling it with Adam optimiser.This parameters are a result of self iterative process, with the aim being to get best model architecture for dataset at hand. The model summary can also be seen'"
      ]
     },
     "execution_count": 765,
     "metadata": {},
     "output_type": "execute_result"
    }
   ],
   "source": [
    "\"\"\" As seen in the code snippet above, the vector output of embedding layer is 600 and followed by a 1-Dimensional convolutional layer using using 64 filters with kernel size of 4,each using a ReLu fuction. Then,a 1-dimensional max pooling layer with a pool size of 8.These vectors are fattened(transposed to a single row of vectors) for a fully connected layer before compiling it with Adam optimiser.This parameters are a result of self iterative process, with the aim being to get best model architecture for dataset at hand. The model summary can also be seen\"\"\"\n",
    "\n"
   ]
  },
  {
   "cell_type": "code",
   "execution_count": 766,
   "metadata": {},
   "outputs": [
    {
     "name": "stdout",
     "output_type": "stream",
     "text": [
      "Epoch 1/50\n",
      "12/12 [==============================] - 1s 23ms/step - loss: 3.7944 - accuracy: 0.0767 - val_loss: 3.7556 - val_accuracy: 0.1087 - lr: 0.0010\n",
      "Epoch 2/50\n",
      "12/12 [==============================] - 0s 14ms/step - loss: 3.6109 - accuracy: 0.3042 - val_loss: 3.6578 - val_accuracy: 0.1957 - lr: 0.0010\n",
      "Epoch 3/50\n",
      "12/12 [==============================] - 0s 18ms/step - loss: 3.3928 - accuracy: 0.3915 - val_loss: 3.5236 - val_accuracy: 0.2609 - lr: 0.0010\n",
      "Epoch 4/50\n",
      "12/12 [==============================] - 0s 14ms/step - loss: 3.1063 - accuracy: 0.4603 - val_loss: 3.3363 - val_accuracy: 0.3043 - lr: 0.0010\n",
      "Epoch 5/50\n",
      "12/12 [==============================] - 0s 19ms/step - loss: 2.7428 - accuracy: 0.5556 - val_loss: 3.0631 - val_accuracy: 0.3261 - lr: 0.0010\n",
      "Epoch 6/50\n",
      "12/12 [==============================] - 0s 16ms/step - loss: 2.3144 - accuracy: 0.6376 - val_loss: 2.7596 - val_accuracy: 0.4130 - lr: 0.0010\n",
      "Epoch 7/50\n",
      "12/12 [==============================] - 0s 16ms/step - loss: 1.8688 - accuracy: 0.7698 - val_loss: 2.4204 - val_accuracy: 0.5217 - lr: 0.0010\n",
      "Epoch 8/50\n",
      "12/12 [==============================] - 0s 15ms/step - loss: 1.4467 - accuracy: 0.8836 - val_loss: 2.1110 - val_accuracy: 0.6087 - lr: 0.0010\n",
      "Epoch 9/50\n",
      "12/12 [==============================] - 0s 15ms/step - loss: 1.0760 - accuracy: 0.9286 - val_loss: 1.7992 - val_accuracy: 0.7174 - lr: 0.0010\n",
      "Epoch 10/50\n",
      "12/12 [==============================] - 0s 18ms/step - loss: 0.7609 - accuracy: 0.9550 - val_loss: 1.5641 - val_accuracy: 0.7391 - lr: 0.0010\n",
      "Epoch 11/50\n",
      "12/12 [==============================] - 0s 15ms/step - loss: 0.5221 - accuracy: 0.9683 - val_loss: 1.3855 - val_accuracy: 0.7609 - lr: 0.0010\n",
      "Epoch 12/50\n",
      "12/12 [==============================] - 0s 11ms/step - loss: 0.3643 - accuracy: 0.9735 - val_loss: 1.2389 - val_accuracy: 0.7826 - lr: 0.0010\n",
      "Epoch 13/50\n",
      "12/12 [==============================] - 0s 11ms/step - loss: 0.2605 - accuracy: 0.9788 - val_loss: 1.1522 - val_accuracy: 0.8043 - lr: 0.0010\n",
      "Epoch 14/50\n",
      "12/12 [==============================] - 0s 10ms/step - loss: 0.1942 - accuracy: 0.9841 - val_loss: 1.0919 - val_accuracy: 0.8043 - lr: 0.0010\n",
      "Epoch 15/50\n",
      "12/12 [==============================] - 0s 11ms/step - loss: 0.1500 - accuracy: 0.9894 - val_loss: 1.0291 - val_accuracy: 0.8043 - lr: 0.0010\n",
      "Epoch 16/50\n",
      "12/12 [==============================] - 0s 16ms/step - loss: 0.1217 - accuracy: 0.9921 - val_loss: 0.9832 - val_accuracy: 0.8043 - lr: 0.0010\n",
      "Epoch 17/50\n",
      "12/12 [==============================] - 0s 20ms/step - loss: 0.1002 - accuracy: 0.9921 - val_loss: 0.9461 - val_accuracy: 0.7826 - lr: 0.0010\n",
      "Epoch 18/50\n",
      "12/12 [==============================] - 0s 14ms/step - loss: 0.0858 - accuracy: 0.9921 - val_loss: 0.9095 - val_accuracy: 0.7826 - lr: 0.0010\n",
      "Epoch 19/50\n",
      "12/12 [==============================] - 0s 19ms/step - loss: 0.0740 - accuracy: 0.9921 - val_loss: 0.8906 - val_accuracy: 0.8043 - lr: 0.0010\n",
      "Epoch 20/50\n",
      "12/12 [==============================] - 0s 20ms/step - loss: 0.0648 - accuracy: 0.9921 - val_loss: 0.8643 - val_accuracy: 0.7826 - lr: 0.0010\n",
      "Epoch 21/50\n",
      "12/12 [==============================] - 0s 24ms/step - loss: 0.0585 - accuracy: 0.9921 - val_loss: 0.8472 - val_accuracy: 0.8043 - lr: 0.0010\n",
      "Epoch 22/50\n",
      "12/12 [==============================] - 0s 22ms/step - loss: 0.0533 - accuracy: 0.9921 - val_loss: 0.8326 - val_accuracy: 0.8043 - lr: 0.0010\n",
      "Epoch 23/50\n",
      "12/12 [==============================] - 0s 14ms/step - loss: 0.0492 - accuracy: 0.9921 - val_loss: 0.8123 - val_accuracy: 0.7826 - lr: 0.0010\n",
      "Epoch 24/50\n",
      "12/12 [==============================] - 0s 13ms/step - loss: 0.0475 - accuracy: 0.9921 - val_loss: 0.7995 - val_accuracy: 0.7826 - lr: 0.0010\n",
      "Epoch 25/50\n",
      "12/12 [==============================] - 0s 11ms/step - loss: 0.0421 - accuracy: 0.9947 - val_loss: 0.7775 - val_accuracy: 0.7826 - lr: 0.0010\n",
      "Epoch 26/50\n",
      "12/12 [==============================] - 0s 11ms/step - loss: 0.0422 - accuracy: 0.9947 - val_loss: 0.7626 - val_accuracy: 0.7826 - lr: 0.0010\n",
      "Epoch 27/50\n",
      "12/12 [==============================] - 0s 10ms/step - loss: 0.0379 - accuracy: 0.9947 - val_loss: 0.7658 - val_accuracy: 0.7826 - lr: 0.0010\n",
      "Epoch 28/50\n",
      "12/12 [==============================] - 0s 12ms/step - loss: 0.0375 - accuracy: 0.9921 - val_loss: 0.7492 - val_accuracy: 0.8043 - lr: 0.0010\n",
      "Epoch 29/50\n",
      "12/12 [==============================] - 0s 10ms/step - loss: 0.0358 - accuracy: 0.9921 - val_loss: 0.7424 - val_accuracy: 0.8043 - lr: 0.0010\n",
      "Epoch 30/50\n",
      "12/12 [==============================] - 0s 11ms/step - loss: 0.0304 - accuracy: 0.9947 - val_loss: 0.7241 - val_accuracy: 0.8043 - lr: 0.0010\n",
      "Epoch 31/50\n",
      "12/12 [==============================] - 0s 15ms/step - loss: 0.0302 - accuracy: 0.9947 - val_loss: 0.7095 - val_accuracy: 0.8043 - lr: 0.0010\n",
      "Epoch 32/50\n",
      "12/12 [==============================] - 0s 10ms/step - loss: 0.0268 - accuracy: 0.9947 - val_loss: 0.7126 - val_accuracy: 0.7826 - lr: 0.0010\n",
      "Epoch 33/50\n",
      "12/12 [==============================] - 0s 11ms/step - loss: 0.0273 - accuracy: 0.9947 - val_loss: 0.6954 - val_accuracy: 0.8043 - lr: 0.0010\n",
      "Epoch 34/50\n",
      "12/12 [==============================] - 0s 13ms/step - loss: 0.0254 - accuracy: 0.9947 - val_loss: 0.6862 - val_accuracy: 0.8043 - lr: 0.0010\n",
      "Epoch 35/50\n",
      "12/12 [==============================] - 0s 11ms/step - loss: 0.0227 - accuracy: 0.9947 - val_loss: 0.6805 - val_accuracy: 0.8043 - lr: 0.0010\n",
      "Epoch 36/50\n",
      "12/12 [==============================] - 0s 23ms/step - loss: 0.0220 - accuracy: 0.9947 - val_loss: 0.6694 - val_accuracy: 0.8043 - lr: 0.0010\n",
      "Epoch 37/50\n",
      "12/12 [==============================] - 0s 20ms/step - loss: 0.0203 - accuracy: 0.9921 - val_loss: 0.6621 - val_accuracy: 0.8043 - lr: 0.0010\n",
      "Epoch 38/50\n",
      "12/12 [==============================] - 0s 21ms/step - loss: 0.0218 - accuracy: 0.9921 - val_loss: 0.6597 - val_accuracy: 0.8043 - lr: 0.0010\n",
      "Epoch 39/50\n",
      "12/12 [==============================] - 0s 13ms/step - loss: 0.0182 - accuracy: 0.9921 - val_loss: 0.6501 - val_accuracy: 0.8043 - lr: 0.0010\n",
      "Epoch 40/50\n",
      "12/12 [==============================] - 0s 11ms/step - loss: 0.0187 - accuracy: 0.9921 - val_loss: 0.6429 - val_accuracy: 0.8043 - lr: 0.0010\n",
      "Epoch 41/50\n",
      "12/12 [==============================] - 0s 10ms/step - loss: 0.0175 - accuracy: 0.9947 - val_loss: 0.6416 - val_accuracy: 0.8261 - lr: 0.0010\n",
      "Epoch 42/50\n",
      "12/12 [==============================] - 0s 10ms/step - loss: 0.0169 - accuracy: 0.9947 - val_loss: 0.6372 - val_accuracy: 0.8261 - lr: 0.0010\n",
      "Epoch 43/50\n",
      "12/12 [==============================] - 0s 11ms/step - loss: 0.0162 - accuracy: 0.9921 - val_loss: 0.6335 - val_accuracy: 0.8478 - lr: 0.0010\n",
      "Epoch 44/50\n",
      "12/12 [==============================] - 0s 10ms/step - loss: 0.0161 - accuracy: 0.9921 - val_loss: 0.6313 - val_accuracy: 0.8261 - lr: 0.0010\n",
      "Epoch 45/50\n",
      "12/12 [==============================] - 0s 11ms/step - loss: 0.0182 - accuracy: 0.9921 - val_loss: 0.6306 - val_accuracy: 0.8261 - lr: 0.0010\n",
      "Epoch 46/50\n",
      "12/12 [==============================] - 0s 10ms/step - loss: 0.0219 - accuracy: 0.9921 - val_loss: 0.6495 - val_accuracy: 0.8043 - lr: 0.0010\n",
      "Epoch 47/50\n",
      "12/12 [==============================] - 0s 11ms/step - loss: 0.0140 - accuracy: 0.9947 - val_loss: 0.6291 - val_accuracy: 0.8261 - lr: 0.0010\n",
      "Epoch 48/50\n",
      "12/12 [==============================] - 0s 18ms/step - loss: 0.0157 - accuracy: 0.9947 - val_loss: 0.6231 - val_accuracy: 0.8261 - lr: 0.0010\n",
      "Epoch 49/50\n",
      "12/12 [==============================] - 0s 19ms/step - loss: 0.0130 - accuracy: 0.9947 - val_loss: 0.6295 - val_accuracy: 0.8043 - lr: 0.0010\n",
      "Epoch 50/50\n",
      "12/12 [==============================] - 0s 23ms/step - loss: 0.0158 - accuracy: 0.9947 - val_loss: 0.6198 - val_accuracy: 0.8261 - lr: 0.0010\n"
     ]
    }
   ],
   "source": [
    "# Training the model\n",
    "history=model.fit(x_train,y_train,epochs=50,validation_data=(x_test,y_test),callbacks=callbacks)\n"
   ]
  },
  {
   "cell_type": "code",
   "execution_count": 767,
   "metadata": {},
   "outputs": [
    {
     "name": "stdout",
     "output_type": "stream",
     "text": [
      "Accuracy of Model: 84.78260636329651 %\n"
     ]
    },
    {
     "data": {
      "image/png": "[encoded data removed]",
      "text/plain": [
       "<Figure size 1152x576 with 2 Axes>"
      ]
     },
     "metadata": {
      "needs_background": "light"
     },
     "output_type": "display_data"
    }
   ],
   "source": [
    "print(\"Accuracy of Model:\", max(history.history['val_accuracy'])*100,\"%\")\n",
    "acc=history.history['accuracy']\n",
    "val_acc=history.history['val_accuracy']\n",
    "loss=history.history['loss']\n",
    "val_loss=history.history['val_loss']\n",
    "\n",
    "plt.figure(figsize=(16,8))\n",
    "plt.subplot(1,2,1)\n",
    "plt.plot(acc,label=\"Training Accuracy\")\n",
    "plt.plot(val_acc,label=\"Validation Accuracy\")\n",
    "plt.legend(loc='lower right')\n",
    "plt.title(\"Training and Validation Accuracy\")\n",
    "\n",
    "plt.subplot(1,2,2)\n",
    "plt.plot(loss,label=\"Training Loss\")\n",
    "plt.plot(val_loss,label=\"Validation Loss\")\n",
    "plt.legend(loc='upper right')\n",
    "plt.title(\"Training and Validation Loss\")\n",
    "\n",
    "plt.show()"
   ]
  }
 ],
 "metadata": {
  "interpreter": {
   "hash": "c569cd2e17f62341e0f08a54f9a867c3c0d3a6f67454072d7de41a8b5dff8343"
  },
  "kernelspec": {
   "display_name": "Python 3.9.5 64-bit",
   "language": "python",
   "name": "python3"
  },
  "language_info": {
   "codemirror_mode": {
    "name": "ipython",
    "version": 3
   },
   "file_extension": ".py",
   "mimetype": "text/x-python",
   "name": "python",
   "nbconvert_exporter": "python",
   "pygments_lexer": "ipython3",
   "version": "3.9.5"
  },
  "orig_nbformat": 4
 },
 "nbformat": 4,
 "nbformat_minor": 2
}
